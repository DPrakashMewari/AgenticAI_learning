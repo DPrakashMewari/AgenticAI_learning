{
 "cells": [
  {
   "cell_type": "markdown",
   "metadata": {},
   "source": [
    "# Pre-Lesson Exercise: Organize Your Workspace Space Kick-Off\n",
    "\n",
    "Before we get started on our course, let's take some time to set up and tidy our workspace. As an agentic twist on the matter, we will guide a Large Language Model (LLM) through a series of prompt refinements to create a practical plan to organize your personal work area.\n",
    "\n",
    "## Outline\n",
    "\n",
    "1. Start with a generic prompt\n",
    "2. Add a professional role\n",
    "3. Introduce concrete constraints\n",
    "4. Bonus: Apply what you've learned"
   ]
  },
  {
   "cell_type": "code",
   "execution_count": 1,
   "metadata": {},
   "outputs": [],
   "source": [
    "# Import necessary libraries\n",
    "# No changes needed in this cell\n",
    "from openai import OpenAI\n",
    "from IPython.display import Markdown, display\n",
    "import os"
   ]
  },
  {
   "cell_type": "code",
   "execution_count": 3,
   "metadata": {},
   "outputs": [],
   "source": [
    "# If using the Vocareum API endpoint\n",
    "# TODO: Fill in the missing parts marked with **********\n",
    "\n",
    "client = OpenAI(\n",
    "    base_url=\"https://openai.vocareum.com/v1\",\n",
    "    # Uncomment one of the following\n",
    "    api_key=\"82\",  # <--- TODO: Fill in your Vocareum API key here\n",
    "    # api_key=os.getenv(\n",
    "    #     \"OPENAI_API_KEY\"\n",
    "    # ),  # <-- Alternately, set as an environment variable\n",
    ")\n",
    "\n",
    "# If using OpenAI's API endpoint\n",
    "# client = OpenAI()\n"
   ]
  },
  {
   "cell_type": "code",
   "execution_count": 4,
   "metadata": {},
   "outputs": [],
   "source": [
    "# No changes needed in this cell\n",
    "from enum import Enum\n",
    "\n",
    "\n",
    "class OpenAIModels(str, Enum):\n",
    "    GPT_4O_MINI = \"gpt-4o-mini\"\n",
    "    GPT_41_MINI = \"gpt-4.1-mini\"\n",
    "    GPT_41_NANO = \"gpt-4.1-nano\"\n",
    "\n",
    "\n",
    "MODEL = OpenAIModels.GPT_41_NANO\n",
    "\n",
    "\n",
    "def get_completion(system_prompt, user_prompt, model=MODEL):\n",
    "    \"\"\"\n",
    "    Function to get a completion from the OpenAI API.\n",
    "    Args:\n",
    "        system_prompt: The system prompt\n",
    "        user_prompt: The user prompt\n",
    "        model: The model to use (default is gpt-4.1-mini)\n",
    "    Returns:\n",
    "        The completion text\n",
    "    \"\"\"\n",
    "    messages = [\n",
    "        {\"role\": \"user\", \"content\": user_prompt},\n",
    "    ]\n",
    "    if system_prompt is not None:\n",
    "        messages = [\n",
    "            {\"role\": \"system\", \"content\": system_prompt},\n",
    "            *messages,\n",
    "        ]\n",
    "    try:\n",
    "        response = client.chat.completions.create(\n",
    "            model=model,\n",
    "            messages=messages,\n",
    "            temperature=0.7,\n",
    "        )\n",
    "        return response.choices[0].message.content\n",
    "    except Exception as e:\n",
    "        return f\"An error occurred: {e}\"\n",
    "\n",
    "\n",
    "def display_responses(*args):\n",
    "    \"\"\"Helper function to display responses as Markdown, horizontally.\"\"\"\n",
    "    markdown_string = \"<table><tr>\"\n",
    "    # Headers\n",
    "    for arg in args:\n",
    "        markdown_string += f\"<th>System Prompt:<br />{arg['system_prompt']}<br /><br />\"\n",
    "        markdown_string += f\"User Prompt:<br />{arg['user_prompt']}</th>\"\n",
    "    markdown_string += \"</tr>\"\n",
    "    # Rows\n",
    "    markdown_string += \"<tr>\"\n",
    "    for arg in args:\n",
    "        markdown_string += f\"<td>Response:<br />{arg['response']}</td>\"\n",
    "    markdown_string += \"</tr></table>\"\n",
    "    display(Markdown(markdown_string))"
   ]
  },
  {
   "cell_type": "markdown",
   "metadata": {},
   "source": [
    "## 1. Generic Prompt\n",
    "\n",
    "First, let's see what the model produces with a basic prompt."
   ]
  },
  {
   "cell_type": "code",
   "execution_count": 5,
   "metadata": {},
   "outputs": [
    {
     "name": "stdout",
     "output_type": "stream",
     "text": [
      "Sending prompt to OpenAIModels.GPT_41_NANO model...\n",
      "Response received!\n",
      "\n"
     ]
    },
    {
     "data": {
      "text/markdown": [
       "<table><tr><th>System Prompt:<br />You are a helpful assistant.<br /><br />User Prompt:<br />Give me a simple plan to declutter and organize my workspace.</th></tr><tr><td>Response:<br />Certainly! Here's a simple and effective plan to declutter and organize your workspace:\n",
       "\n",
       "1. Set a Goal:\n",
       "Decide what you want to achieve, such as creating a tidy desk, improving efficiency, or reducing distractions.\n",
       "\n",
       "2. Clear Everything:\n",
       "Remove all items from your workspace. This gives you a blank slate to work with.\n",
       "\n",
       "3. Sort Items into Categories:\n",
       "Create piles or categories such as:\n",
       "- Keep\n",
       "- Donate or discard\n",
       "- Relocate to other areas\n",
       "\n",
       "4. Clean the Space:\n",
       "Wipe down your desk, shelves, and any other surfaces to remove dust and dirt.\n",
       "\n",
       "5. Organize Your Items:\n",
       "- Keep only essentials on your desk (e.g., computer, notepad, pen).\n",
       "- Use organizers like trays, drawer dividers, or baskets for supplies.\n",
       "- Store infrequently used items elsewhere to reduce clutter.\n",
       "\n",
       "6. Establish a System:\n",
       "- Assign specific spots for items so everything has a place.\n",
       "- Label drawers or containers if needed.\n",
       "\n",
       "7. Maintain Regularly:\n",
       "Set aside a few minutes weekly to tidy up and ensure clutter doesn’t build up again.\n",
       "\n",
       "8. Personalize Thoughtfully:\n",
       "Add a few personal touches that inspire you, but avoid overloading your space.\n",
       "\n",
       "Following this plan will help create a clean, functional, and inspiring workspace.</td></tr></table>"
      ],
      "text/plain": [
       "<IPython.core.display.Markdown object>"
      ]
     },
     "metadata": {},
     "output_type": "display_data"
    }
   ],
   "source": [
    "# No changes needed in this cell\n",
    "plain_system_prompt = \"You are a helpful assistant.\"  # A generic system prompt\n",
    "user_prompt = \"Give me a simple plan to declutter and organize my workspace.\"\n",
    "\n",
    "print(f\"Sending prompt to {MODEL} model...\")\n",
    "baseline_response = get_completion(plain_system_prompt, user_prompt)\n",
    "print(\"Response received!\\n\")\n",
    "\n",
    "display_responses(\n",
    "    {\n",
    "        \"system_prompt\": plain_system_prompt,\n",
    "        \"user_prompt\": user_prompt,\n",
    "        \"response\": baseline_response,\n",
    "    }\n",
    ")"
   ]
  },
  {
   "cell_type": "markdown",
   "metadata": {},
   "source": [
    "## 2. Add a Professional Role\n",
    "\n",
    "Now, let's add a professional role to see how it affects the response.\n",
    "\n",
    "<div style=\"color: red\">NOTE: We will use the same user prompt for these examples. All you need to do is vary the system prompt, which is where one would normally define the role for an LLM.</div>"
   ]
  },
  {
   "cell_type": "code",
   "execution_count": 8,
   "metadata": {},
   "outputs": [
    {
     "name": "stdout",
     "output_type": "stream",
     "text": [
      "Sending prompt with professional role...\n",
      "Response received!\n",
      "\n"
     ]
    },
    {
     "data": {
      "text/markdown": [
       "<table><tr><th>System Prompt:<br />You are a helpful assistant.<br /><br />User Prompt:<br />Give me a simple plan to declutter and organize my workspace.</th><th>System Prompt:<br />You are Profession Planner that organize task.<br /><br />User Prompt:<br />Give me a simple plan to declutter and organize my workspace.</th></tr><tr><td>Response:<br />Certainly! Here's a simple and effective plan to declutter and organize your workspace:\n",
       "\n",
       "1. Set a Goal:\n",
       "Decide what you want to achieve, such as creating a tidy desk, improving efficiency, or reducing distractions.\n",
       "\n",
       "2. Clear Everything:\n",
       "Remove all items from your workspace. This gives you a blank slate to work with.\n",
       "\n",
       "3. Sort Items into Categories:\n",
       "Create piles or categories such as:\n",
       "- Keep\n",
       "- Donate or discard\n",
       "- Relocate to other areas\n",
       "\n",
       "4. Clean the Space:\n",
       "Wipe down your desk, shelves, and any other surfaces to remove dust and dirt.\n",
       "\n",
       "5. Organize Your Items:\n",
       "- Keep only essentials on your desk (e.g., computer, notepad, pen).\n",
       "- Use organizers like trays, drawer dividers, or baskets for supplies.\n",
       "- Store infrequently used items elsewhere to reduce clutter.\n",
       "\n",
       "6. Establish a System:\n",
       "- Assign specific spots for items so everything has a place.\n",
       "- Label drawers or containers if needed.\n",
       "\n",
       "7. Maintain Regularly:\n",
       "Set aside a few minutes weekly to tidy up and ensure clutter doesn’t build up again.\n",
       "\n",
       "8. Personalize Thoughtfully:\n",
       "Add a few personal touches that inspire you, but avoid overloading your space.\n",
       "\n",
       "Following this plan will help create a clean, functional, and inspiring workspace.</td><td>Response:<br />Certainly! Here's a simple and effective plan to declutter and organize your workspace:\n",
       "\n",
       "**Day 1: Clear and Clean**\n",
       "- Remove everything from your desk and shelves.\n",
       "- Wipe down surfaces and clean any dust or dirt.\n",
       "- Set aside items to keep, donate, or discard.\n",
       "\n",
       "**Day 2: Sort and Categorize**\n",
       "- Group similar items together (e.g., pens, papers, electronics).\n",
       "- Decide what to keep based on usage and necessity.\n",
       "- Discard or donate items you no longer need.\n",
       "\n",
       "**Day 3: Organize and Arrange**\n",
       "- Assign specific spots for each category (use organizers, trays, or drawers).\n",
       "- Keep frequently used items within easy reach.\n",
       "- Store less-used items in drawers or storage containers.\n",
       "\n",
       "**Day 4: Personalize and Optimize**\n",
       "- Add personal touches like photos or plants to make the space inviting.\n",
       "- Adjust furniture or storage to maximize space and comfort.\n",
       "- Ensure cables are managed with clips or ties to reduce clutter.\n",
       "\n",
       "**Ongoing Maintenance:**\n",
       "- Spend 5-10 minutes daily tidying up.\n",
       "- Regularly review your workspace to keep it organized.\n",
       "\n",
       "Would you like a printable checklist to follow along?</td></tr></table>"
      ],
      "text/plain": [
       "<IPython.core.display.Markdown object>"
      ]
     },
     "metadata": {},
     "output_type": "display_data"
    }
   ],
   "source": [
    "# TODO: Write a system prompt starting with \"You are...\" replacing the ***********\n",
    "role_system_prompt = \"You are Profession Planner that organize task.\"\n",
    "\n",
    "print(\"Sending prompt with professional role...\")\n",
    "role_response = get_completion(role_system_prompt, user_prompt)\n",
    "print(\"Response received!\\n\")\n",
    "\n",
    "# Show last two prompts and responses\n",
    "display_responses(\n",
    "    {\n",
    "        \"system_prompt\": plain_system_prompt,\n",
    "        \"user_prompt\": user_prompt,\n",
    "        \"response\": baseline_response,\n",
    "    },\n",
    "    {\n",
    "        \"system_prompt\": role_system_prompt,\n",
    "        \"user_prompt\": user_prompt,\n",
    "        \"response\": role_response,\n",
    "    },\n",
    ")"
   ]
  },
  {
   "cell_type": "markdown",
   "metadata": {},
   "source": [
    "## 3. Add Constraints\n",
    "\n",
    "Let's add specific constraints to see how the model prioritizes tasks. Let's add a time constraint, a budget constraint, and other constraints that are important for you."
   ]
  },
  {
   "cell_type": "code",
   "execution_count": 9,
   "metadata": {},
   "outputs": [
    {
     "name": "stdout",
     "output_type": "stream",
     "text": [
      "Sending prompt with constraints...\n",
      "Response received!\n",
      "\n"
     ]
    },
    {
     "data": {
      "text/markdown": [
       "<table><tr><th>System Prompt:<br />You are Profession Planner that organize task.<br /><br />User Prompt:<br />Give me a simple plan to declutter and organize my workspace.</th><th>System Prompt:<br /> You are Profession Planner that organize task.. I have Some Constraint that I am giving to you related time will be 9 hours .budget 10k and place should be LA .<br /><br />User Prompt:<br />Give me a simple plan to declutter and organize my workspace.</th></tr><tr><td>Response:<br />Certainly! Here's a simple and effective plan to declutter and organize your workspace:\n",
       "\n",
       "**Day 1: Clear and Clean**\n",
       "- Remove everything from your desk and shelves.\n",
       "- Wipe down surfaces and clean any dust or dirt.\n",
       "- Set aside items to keep, donate, or discard.\n",
       "\n",
       "**Day 2: Sort and Categorize**\n",
       "- Group similar items together (e.g., pens, papers, electronics).\n",
       "- Decide what to keep based on usage and necessity.\n",
       "- Discard or donate items you no longer need.\n",
       "\n",
       "**Day 3: Organize and Arrange**\n",
       "- Assign specific spots for each category (use organizers, trays, or drawers).\n",
       "- Keep frequently used items within easy reach.\n",
       "- Store less-used items in drawers or storage containers.\n",
       "\n",
       "**Day 4: Personalize and Optimize**\n",
       "- Add personal touches like photos or plants to make the space inviting.\n",
       "- Adjust furniture or storage to maximize space and comfort.\n",
       "- Ensure cables are managed with clips or ties to reduce clutter.\n",
       "\n",
       "**Ongoing Maintenance:**\n",
       "- Spend 5-10 minutes daily tidying up.\n",
       "- Regularly review your workspace to keep it organized.\n",
       "\n",
       "Would you like a printable checklist to follow along?</td><td>Response:<br />Certainly! Here's a simple, efficient plan to declutter and organize your workspace within a 9-hour timeframe and a budget of $10,000 in Los Angeles:\n",
       "\n",
       "**Day 1: Planning & Preparation (1 hour)**\n",
       "- Set clear goals for your workspace (e.g., more storage, better layout).\n",
       "- Gather basic supplies: storage bins, organizers, labels, cleaning supplies.\n",
       "\n",
       "**Day 2: Decluttering (3 hours)**\n",
       "- Sort all items into categories: Keep, Donate, Discard.\n",
       "- Use boxes or bins for items to donate or discard.\n",
       "- Clean surfaces and floors thoroughly.\n",
       "\n",
       "**Day 3: Organizing & Re-arranging (3 hours)**\n",
       "- Assign storage solutions based on item categories.\n",
       "- Invest in organizational furniture if needed (e.g., shelves, drawer units).\n",
       "- Arrange items for easy access and workflow efficiency.\n",
       "- Label storage containers and shelves.\n",
       "\n",
       "**Day 4: Final Touches & Review (2 hours)**\n",
       "- Add personal touches (plants, décor) to enhance workspace ambiance.\n",
       "- Review the layout for any improvements.\n",
       "- Establish a maintenance routine to keep the space organized.\n",
       "\n",
       "**Budget allocation:**\n",
       "- Supplies & organizers: ~$2,000\n",
       "- Furniture (shelving, drawers): ~$5,000\n",
       "- Cleaning & miscellaneous: ~$1,000\n",
       "- Contingency buffer: ~$2,000\n",
       "\n",
       "**Notes:**\n",
       "- Purchase supplies from affordable Los Angeles stores such as IKEA, The Container Store, or online.\n",
       "- Consider hiring a professional organizer if needed, within your budget.\n",
       "- Keep the process simple and focused to stay within your 9-hour limit.\n",
       "\n",
       "Would you like me to create a detailed shopping list or suggest specific organizational products?</td></tr></table>"
      ],
      "text/plain": [
       "<IPython.core.display.Markdown object>"
      ]
     },
     "metadata": {},
     "output_type": "display_data"
    }
   ],
   "source": [
    "# TODO: Write a constraints system prompt replacing the ***********\n",
    "constraints_system_prompt = f\"\"\" {role_system_prompt}. I have Some Constraint that I am giving to you related time will be 9 hours .budget 10k and place should be LA .\"\"\"\n",
    "\n",
    "print(\"Sending prompt with constraints...\")\n",
    "constraints_response = get_completion(constraints_system_prompt, user_prompt)\n",
    "print(\"Response received!\\n\")\n",
    "\n",
    "# Show last two prompts and responses\n",
    "display_responses(\n",
    "    {\n",
    "        \"system_prompt\": role_system_prompt,\n",
    "        \"user_prompt\": user_prompt,\n",
    "        \"response\": role_response,\n",
    "    },\n",
    "    {\n",
    "        \"system_prompt\": constraints_system_prompt,\n",
    "        \"user_prompt\": user_prompt,\n",
    "        \"response\": constraints_response,\n",
    "    },\n",
    ")"
   ]
  },
  {
   "cell_type": "markdown",
   "metadata": {},
   "source": [
    "## Bonus: Apply what you've learned\n",
    "\n",
    "Try crafting a prompt for one of your own ideas or even a different organization task (e.g., digital file cleanup, closet overhaul)!"
   ]
  },
  {
   "cell_type": "code",
   "execution_count": 13,
   "metadata": {},
   "outputs": [
    {
     "name": "stdout",
     "output_type": "stream",
     "text": [
      "Sending custom prompt...\n",
      "Response received!\n",
      "\n"
     ]
    },
    {
     "data": {
      "text/markdown": [
       "<table><tr><th>System Prompt:<br />\n",
       "You are Retailer of Gaming shop that know the gaming market well.\n",
       "Want to take care of per person timing and profit\n",
       "<br /><br />User Prompt:<br />\n",
       " Give me the range of game you have with Prices and discounts\n",
       "\n",
       "</th></tr><tr><td>Response:<br />Certainly! Here's an overview of the typical range of games available in our gaming shop, including their prices and possible discounts:\n",
       "\n",
       "### Console Games (PlayStation, Xbox, Nintendo Switch)\n",
       "- **Price Range:** $20 - $70\n",
       "- **Discounts:** Up to 20-30% during sales events (Black Friday, holiday sales, etc.)\n",
       "- **Popular Titles:** \n",
       "  - *FIFA 24* – $60 (with discounts)\n",
       "  - *The Legend of Zelda: Tears of the Kingdom* – $70\n",
       "  - *Call of Duty: Modern Warfare III* – $60\n",
       "\n",
       "### PC Games\n",
       "- **Price Range:** $10 - $60\n",
       "- **Discounts:** Up to 50% during seasonal sales (Steam, Epic Games Store, etc.)\n",
       "- **Popular Titles:**\n",
       "  - *Cyberpunk 2077* – $30 (discounted)\n",
       "  - *Minecraft* – $26\n",
       "  - *Elden Ring* – $59\n",
       "\n",
       "### Mobile & Indie Games\n",
       "- **Price Range:** $0.99 - $20\n",
       "- **Discounts:** Varies; many free-to-play with in-app purchases\n",
       "- **Popular Titles:**\n",
       "  - *Among Us* – Free with in-app purchases\n",
       "  - *Stardew Valley* – $15\n",
       "  - *Hades* – $20\n",
       "\n",
       "### Collectibles & Accessories (Bonus)\n",
       "- Game controllers, headsets, and collectibles priced accordingly, often with bundle discounts.\n",
       "\n",
       "---\n",
       "\n",
       "Would you like specific game recommendations, current discounts, or information on upcoming sales?</td></tr></table>"
      ],
      "text/plain": [
       "<IPython.core.display.Markdown object>"
      ]
     },
     "metadata": {},
     "output_type": "display_data"
    }
   ],
   "source": [
    "# Create your own prompts here!\n",
    "\n",
    "# TODO: Replace the ***********\n",
    "custom_system_prompt = \"\"\"\n",
    "You are Retailer of Gaming shop that know the gaming market well.\n",
    "Want to take care of per person timing and profit\n",
    "\"\"\"\n",
    "user_prompt = \"\"\"\n",
    " Give me the range of game you have with Prices and discounts\n",
    "\n",
    "\"\"\"\n",
    "\n",
    "# Uncomment the lines below to run your custom prompt\n",
    "print(\"Sending custom prompt...\")\n",
    "custom_response = get_completion(custom_system_prompt, user_prompt)\n",
    "print(\"Response received!\\n\")\n",
    "\n",
    "display_responses(\n",
    "    {\n",
    "        \"system_prompt\": custom_system_prompt,\n",
    "        \"user_prompt\": user_prompt,\n",
    "        \"response\": custom_response,\n",
    "    }\n",
    ")"
   ]
  },
  {
   "cell_type": "markdown",
   "metadata": {},
   "source": [
    "## Summary\n",
    "\n",
    "In this exercise, we explored how different prompt refinements affect the output of an LLM:\n",
    "\n",
    "1. **Generic Prompt**: We started with a simple request for a workspace organization plan.\n",
    "2. **Professional Role**: We added a specific role to enhance expertise and authority.\n",
    "3. **Concrete Constraints**: We introduced specific limitations that required prioritization.\n",
    "4. **Step-by-Step Reasoning**: We requested explicit reasoning to understand the model's thought process.\n",
    "\n",
    "These techniques demonstrate how prompt engineering can significantly improve the usefulness and relevance of AI-generated content for specific needs.\n",
    "\n",
    "Excellent Work! 🚀"
   ]
  }
 ],
 "metadata": {
  "kernelspec": {
   "display_name": "venv",
   "language": "python",
   "name": "python3"
  },
  "language_info": {
   "codemirror_mode": {
    "name": "ipython",
    "version": 3
   },
   "file_extension": ".py",
   "mimetype": "text/x-python",
   "name": "python",
   "nbconvert_exporter": "python",
   "pygments_lexer": "ipython3",
   "version": "3.13.0"
  },
  "vscode": {
   "interpreter": {
    "hash": "23393d2575091a37cff0d0e9e7479591a295495b26c3b2ebf9b64da572e02d85"
   }
  }
 },
 "nbformat": 4,
 "nbformat_minor": 4
}
