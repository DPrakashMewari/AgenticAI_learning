{
 "cells": [
  {
   "cell_type": "markdown",
   "metadata": {},
   "source": [
    "# Organize Your Workspace Space\n",
    "\n",
    "Before we get started on our course, let's take some time to set up and tidy our workspace. As an agentic twist on the matter, we will guide a Large Language Model (LLM) through a series of prompt refinements to create a practical plan to organize your personal work area.\n",
    "\n",
    "## Outline\n",
    "\n",
    "1. Start with a generic prompt\n",
    "2. Add a professional role\n",
    "3. Introduce concrete constraints\n",
    "4. Bonus: Apply what you've learned"
   ]
  },
  {
   "cell_type": "code",
   "execution_count": 1,
   "metadata": {},
   "outputs": [],
   "source": [
    "# Import necessary libraries\n",
    "# No changes needed in this cell\n",
    "from openai import OpenAI\n",
    "from IPython.display import Markdown, display\n",
    "import os"
   ]
  },
  {
   "cell_type": "code",
   "execution_count": 2,
   "metadata": {},
   "outputs": [],
   "source": [
    "# If using the Vocareum API endpoint\n",
    "# TODO: Fill in the missing parts marked with **********\n",
    "\n",
    "client = OpenAI(\n",
    "    base_url=\"https://openai.vocareum.com/v1\",\n",
    "    # Uncomment one of the following\n",
    "    api_key=\"voc-603875819160736451815268f741bb6a4497.62941082\",  # <--- TODO: Fill in your Vocareum API key here\n",
    "    # api_key=os.getenv(\n",
    "    #     \"OPENAI_API_KEY\"\n",
    "    # ),  # <-- Alternately, set as an environment variable\n",
    ")\n",
    "\n",
    "# If using OpenAI's API endpoint\n",
    "# client = OpenAI()\n"
   ]
  },
  {
   "cell_type": "code",
   "execution_count": 3,
   "metadata": {},
   "outputs": [],
   "source": [
    "from enum import Enum\n",
    "\n",
    "\n",
    "class OpenAIModels(str, Enum):\n",
    "    GPT_4O_MINI = \"gpt-4o-mini\"\n",
    "    GPT_41_MINI = \"gpt-4.1-mini\"\n",
    "    GPT_41_NANO = \"gpt-4.1-nano\"\n",
    "\n",
    "# Choose a different model to see different results\n",
    "MODEL = OpenAIModels.GPT_41_NANO\n",
    "\n",
    "def get_completion(system_prompt, user_prompt, model=MODEL):\n",
    "    \"\"\"\n",
    "    Function to get a completion from the OpenAI API.\n",
    "    Args:\n",
    "        system_prompt: The system prompt\n",
    "        user_prompt: The user prompt\n",
    "        model: The model to use (default is gpt-4.1-mini. change to gpt-4o-mini or gpt-4.1-nano for different results)\n",
    "    Returns:\n",
    "        The completion text\n",
    "    \"\"\"\n",
    "    messages = [\n",
    "        {\"role\": \"user\", \"content\": user_prompt},\n",
    "    ]\n",
    "    if system_prompt is not None:\n",
    "        messages = [\n",
    "            {\"role\": \"system\", \"content\": system_prompt},\n",
    "            *messages,\n",
    "        ]\n",
    "    try:\n",
    "        response = client.chat.completions.create(\n",
    "            model=model,\n",
    "            messages=messages,\n",
    "            temperature=0.7,\n",
    "        )\n",
    "        return response.choices[0].message.content\n",
    "    except Exception as e:\n",
    "        return f\"An error occurred: {e}\"\n",
    "\n",
    "\n",
    "def display_responses(*args):\n",
    "    \"\"\"Helper function to display responses as Markdown, horizontally.\"\"\"\n",
    "    markdown_string = \"<table><tr>\"\n",
    "    # Headers\n",
    "    for arg in args:\n",
    "        markdown_string += f\"<th>System Prompt:<br />{arg['system_prompt']}<br /><br />\"\n",
    "        markdown_string += f\"User Prompt:<br />{arg['user_prompt']}</th>\"\n",
    "    markdown_string += \"</tr>\"\n",
    "    # Rows\n",
    "    markdown_string += \"<tr>\"\n",
    "    for arg in args:\n",
    "        markdown_string += f\"<td>Response:<br />{arg['response']}</td>\"\n",
    "    markdown_string += \"</tr></table>\"\n",
    "    display(Markdown(markdown_string))"
   ]
  },
  {
   "cell_type": "markdown",
   "metadata": {},
   "source": [
    "## 1. Generic Prompt\n",
    "\n",
    "First, let's see what the model produces with a basic prompt."
   ]
  },
  {
   "cell_type": "code",
   "execution_count": 4,
   "metadata": {},
   "outputs": [
    {
     "name": "stdout",
     "output_type": "stream",
     "text": [
      "Sending prompt to OpenAIModels.GPT_41_NANO model...\n",
      "Response received!\n",
      "\n"
     ]
    },
    {
     "data": {
      "text/markdown": [
       "<table><tr><th>System Prompt:<br />You are a helpful assistant.<br /><br />User Prompt:<br />Give me a simple plan to declutter and organize my workspace.</th></tr><tr><td>Response:<br />Certainly! Here's a simple step-by-step plan to declutter and organize your workspace:\n",
       "\n",
       "1. Set a Timer: Allocate 30 minutes to 1 hour to start. You can always do more later.\n",
       "2. Clear the Surface: Remove everything from your desk or workspace surface.\n",
       "3. Sort Items:\n",
       "   - Keep: Items you use daily or frequently.\n",
       "   - Relocate: Items that belong elsewhere.\n",
       "   - Donate/Sell: Items no longer needed.\n",
       "   - Discard: Broken or unusable items.\n",
       "4. Clean the Space: Wipe down surfaces, clean your keyboard, mouse, and any other equipment.\n",
       "5. Organize Essentials:\n",
       "   - Use organizers, trays, or drawers for pens, papers, and supplies.\n",
       "   - Keep frequently used items within easy reach.\n",
       "6. Manage Cables:\n",
       "   - Use cable clips or ties to keep cords tidy.\n",
       "7. Set Up a System:\n",
       "   - Create designated spots for documents, supplies, and equipment.\n",
       "   - Consider labels for drawers or folders.\n",
       "8. Maintain Regularly:\n",
       "   - Spend 5-10 minutes weekly tidying up to keep your workspace organized.\n",
       "   \n",
       "Would you like suggestions on specific storage solutions or organizing tools?</td></tr></table>"
      ],
      "text/plain": [
       "<IPython.core.display.Markdown object>"
      ]
     },
     "metadata": {},
     "output_type": "display_data"
    }
   ],
   "source": [
    "# No changes needed in this cell\n",
    "plain_system_prompt = \"You are a helpful assistant.\"  # A generic system prompt\n",
    "user_prompt = \"Give me a simple plan to declutter and organize my workspace.\"\n",
    "\n",
    "print(f\"Sending prompt to {MODEL} model...\")\n",
    "baseline_response = get_completion(plain_system_prompt, user_prompt)\n",
    "print(\"Response received!\\n\")\n",
    "\n",
    "display_responses(\n",
    "    {\n",
    "        \"system_prompt\": plain_system_prompt,\n",
    "        \"user_prompt\": user_prompt,\n",
    "        \"response\": baseline_response,\n",
    "    }\n",
    ")"
   ]
  },
  {
   "cell_type": "markdown",
   "metadata": {},
   "source": [
    "## 2. Add a Professional Role\n",
    "\n",
    "Now, let's add a professional role to see how it affects the response.\n",
    "\n",
    "<div style=\"color: red\">NOTE: We will use the same user prompt for these examples. All you need to do is vary the system prompt, which is where one would normally define the role for an LLM.</div>"
   ]
  },
  {
   "cell_type": "code",
   "execution_count": 5,
   "metadata": {},
   "outputs": [
    {
     "name": "stdout",
     "output_type": "stream",
     "text": [
      "Sending prompt with professional role...\n",
      "Response received!\n",
      "\n"
     ]
    },
    {
     "data": {
      "text/markdown": [
       "<table><tr><th>System Prompt:<br />You are a helpful assistant.<br /><br />User Prompt:<br />Give me a simple plan to declutter and organize my workspace.</th><th>System Prompt:<br />You are a certified professional organizer.<br /><br />User Prompt:<br />Give me a simple plan to declutter and organize my workspace.</th></tr><tr><td>Response:<br />Certainly! Here's a simple step-by-step plan to declutter and organize your workspace:\n",
       "\n",
       "1. Set a Timer: Allocate 30 minutes to 1 hour to start. You can always do more later.\n",
       "2. Clear the Surface: Remove everything from your desk or workspace surface.\n",
       "3. Sort Items:\n",
       "   - Keep: Items you use daily or frequently.\n",
       "   - Relocate: Items that belong elsewhere.\n",
       "   - Donate/Sell: Items no longer needed.\n",
       "   - Discard: Broken or unusable items.\n",
       "4. Clean the Space: Wipe down surfaces, clean your keyboard, mouse, and any other equipment.\n",
       "5. Organize Essentials:\n",
       "   - Use organizers, trays, or drawers for pens, papers, and supplies.\n",
       "   - Keep frequently used items within easy reach.\n",
       "6. Manage Cables:\n",
       "   - Use cable clips or ties to keep cords tidy.\n",
       "7. Set Up a System:\n",
       "   - Create designated spots for documents, supplies, and equipment.\n",
       "   - Consider labels for drawers or folders.\n",
       "8. Maintain Regularly:\n",
       "   - Spend 5-10 minutes weekly tidying up to keep your workspace organized.\n",
       "   \n",
       "Would you like suggestions on specific storage solutions or organizing tools?</td><td>Response:<br />Certainly! Here's a simple, step-by-step plan to declutter and organize your workspace:\n",
       "\n",
       "**1. Set Clear Goals**\n",
       "- Decide what you want to achieve (e.g., a tidy desk, more storage, better workflow).\n",
       "- Allocate a specific amount of time for the task (e.g., 2-4 hours).\n",
       "\n",
       "**2. Gather Supplies**\n",
       "- Trash bags or bins\n",
       "- Recycling containers\n",
       "- Storage containers or organizers\n",
       "- Labels and markers\n",
       "- Cleaning supplies (wipes, cloth)\n",
       "\n",
       "**3. Clear the Space**\n",
       "- Remove everything from your desk and shelves.\n",
       "- Sort items into categories: Keep, Donate/Sell, Recycle, Trash.\n",
       "\n",
       "**4. Declutter**\n",
       "- Be honest: only keep items that are useful or bring you joy.\n",
       "- Get rid of duplicates and expired supplies.\n",
       "- Dispose of trash and recyclables immediately.\n",
       "\n",
       "**5. Clean Surfaces**\n",
       "- Wipe down your desk, shelves, and storage areas.\n",
       "\n",
       "**6. Organize**\n",
       "- Designate specific spots for each category of items.\n",
       "- Use organizers, trays, or drawers to keep small items tidy.\n",
       "- Store infrequently used items in higher or less accessible areas.\n",
       "\n",
       "**7. Optimize Your Layout**\n",
       "- Arrange your workspace to minimize clutter and maximize functionality.\n",
       "- Keep essential items within arm's reach.\n",
       "\n",
       "**8. Maintain**\n",
       "- Schedule regular quick tidying sessions (e.g., weekly or bi-weekly).\n",
       "- Return items to their designated spots after use.\n",
       "\n",
       "By following this straightforward plan, you'll create a cleaner, more functional workspace that boosts productivity and reduces stress.</td></tr></table>"
      ],
      "text/plain": [
       "<IPython.core.display.Markdown object>"
      ]
     },
     "metadata": {},
     "output_type": "display_data"
    }
   ],
   "source": [
    "# TODO: Write a system prompt starting with \"You are...\" replacing the ***********\n",
    "role_system_prompt = \"You are a certified professional organizer.\"\n",
    "\n",
    "print(\"Sending prompt with professional role...\")\n",
    "role_response = get_completion(role_system_prompt, user_prompt)\n",
    "print(\"Response received!\\n\")\n",
    "\n",
    "# Show last two prompts and responses\n",
    "display_responses(\n",
    "    {\n",
    "        \"system_prompt\": plain_system_prompt,\n",
    "        \"user_prompt\": user_prompt,\n",
    "        \"response\": baseline_response,\n",
    "    },\n",
    "    {\n",
    "        \"system_prompt\": role_system_prompt,\n",
    "        \"user_prompt\": user_prompt,\n",
    "        \"response\": role_response,\n",
    "    },\n",
    ")"
   ]
  },
  {
   "cell_type": "markdown",
   "metadata": {},
   "source": [
    "## 3. Add Constraints\n",
    "\n",
    "Let's add specific constraints to see how the model prioritizes tasks. Let's add a time constraint, a budget constraint, and other constraints that are important for you."
   ]
  },
  {
   "cell_type": "code",
   "execution_count": 6,
   "metadata": {},
   "outputs": [
    {
     "name": "stdout",
     "output_type": "stream",
     "text": [
      "Sending prompt with constraints...\n",
      "Response received!\n",
      "\n"
     ]
    },
    {
     "data": {
      "text/markdown": [
       "<table><tr><th>System Prompt:<br />You are a certified professional organizer.<br /><br />User Prompt:<br />Give me a simple plan to declutter and organize my workspace.</th><th>System Prompt:<br /> You are a certified professional organizer.. I have only 15 minutes, a $20 budget, and limited floor space;\n",
       "I want to keep sentimental items but maximize desk surface.<br /><br />User Prompt:<br />Give me a simple plan to declutter and organize my workspace.</th></tr><tr><td>Response:<br />Certainly! Here's a simple, step-by-step plan to declutter and organize your workspace:\n",
       "\n",
       "**1. Set Clear Goals**\n",
       "- Decide what you want to achieve (e.g., a tidy desk, more storage, better workflow).\n",
       "- Allocate a specific amount of time for the task (e.g., 2-4 hours).\n",
       "\n",
       "**2. Gather Supplies**\n",
       "- Trash bags or bins\n",
       "- Recycling containers\n",
       "- Storage containers or organizers\n",
       "- Labels and markers\n",
       "- Cleaning supplies (wipes, cloth)\n",
       "\n",
       "**3. Clear the Space**\n",
       "- Remove everything from your desk and shelves.\n",
       "- Sort items into categories: Keep, Donate/Sell, Recycle, Trash.\n",
       "\n",
       "**4. Declutter**\n",
       "- Be honest: only keep items that are useful or bring you joy.\n",
       "- Get rid of duplicates and expired supplies.\n",
       "- Dispose of trash and recyclables immediately.\n",
       "\n",
       "**5. Clean Surfaces**\n",
       "- Wipe down your desk, shelves, and storage areas.\n",
       "\n",
       "**6. Organize**\n",
       "- Designate specific spots for each category of items.\n",
       "- Use organizers, trays, or drawers to keep small items tidy.\n",
       "- Store infrequently used items in higher or less accessible areas.\n",
       "\n",
       "**7. Optimize Your Layout**\n",
       "- Arrange your workspace to minimize clutter and maximize functionality.\n",
       "- Keep essential items within arm's reach.\n",
       "\n",
       "**8. Maintain**\n",
       "- Schedule regular quick tidying sessions (e.g., weekly or bi-weekly).\n",
       "- Return items to their designated spots after use.\n",
       "\n",
       "By following this straightforward plan, you'll create a cleaner, more functional workspace that boosts productivity and reduces stress.</td><td>Response:<br />Certainly! Here's a quick, budget-friendly plan to declutter and organize your workspace in 15 minutes:\n",
       "\n",
       "### Step 1: Gather Supplies (2 minutes)\n",
       "- **Budget:** Use what you already have—paper, small boxes, or containers.\n",
       "- **Tools:** Trash bag or bin, a small box or container for sentimental items.\n",
       "\n",
       "### Step 2: Clear Your Desk (5 minutes)\n",
       "- Remove everything from your desk surface.\n",
       "- Quickly sort items into three categories:\n",
       "  - Keep on desk (essential items)\n",
       "  - Store elsewhere (sentimental items, supplies)\n",
       "  - Discard or relocate (trash, unnecessary clutter)\n",
       "\n",
       "### Step 3: Focus on Sentimental Items (3 minutes)\n",
       "- Place sentimental items in a small, dedicated box or container.\n",
       "- Limit the size to maximize desk space—consider a shallow box or decorative container.\n",
       "- Keep only the most meaningful items to avoid clutter.\n",
       "\n",
       "### Step 4: Organize Remaining Items (3 minutes)\n",
       "- Place essential items (like your computer, notepad, pen) back on the desk.\n",
       "- Use small containers or drawer organizers (if available) for supplies to keep the surface clear.\n",
       "\n",
       "### Step 5: Final Touches (2 minutes)\n",
       "- Wipe down your desk surface for a clean look.\n",
       "- Make sure your workspace feels inviting and functional.\n",
       "\n",
       "### Bonus Tips:\n",
       "- Keep sentimental items in one designated container, stored elsewhere if space is tight.\n",
       "- Regularly revisit your workspace weekly to maintain organization.\n",
       "\n",
       "**Total Time:** 15 minutes  \n",
       "**Budget:** $20 (mostly for any small containers or decorative boxes if needed, but you can often find inexpensive options at dollar stores or use existing containers)\n",
       "\n",
       "Would you like suggestions on where to find affordable storage solutions or tips for maintaining your organized space?</td></tr></table>"
      ],
      "text/plain": [
       "<IPython.core.display.Markdown object>"
      ]
     },
     "metadata": {},
     "output_type": "display_data"
    }
   ],
   "source": [
    "# TODO: Write a constraints system prompt replacing the ***********\n",
    "constraints_system_prompt = f\"\"\" {role_system_prompt}. I have only 15 minutes, a $20 budget, and limited floor space;\n",
    "I want to keep sentimental items but maximize desk surface.\"\"\"\n",
    "\n",
    "print(\"Sending prompt with constraints...\")\n",
    "constraints_response = get_completion(constraints_system_prompt, user_prompt)\n",
    "print(\"Response received!\\n\")\n",
    "\n",
    "# Show last two prompts and responses\n",
    "display_responses(\n",
    "    {\n",
    "        \"system_prompt\": role_system_prompt,\n",
    "        \"user_prompt\": user_prompt,\n",
    "        \"response\": role_response,\n",
    "    },\n",
    "    {\n",
    "        \"system_prompt\": constraints_system_prompt,\n",
    "        \"user_prompt\": user_prompt,\n",
    "        \"response\": constraints_response,\n",
    "    },\n",
    ")"
   ]
  },
  {
   "cell_type": "markdown",
   "metadata": {},
   "source": [
    "## Bonus: Apply what you've learned\n",
    "\n",
    "Try crafting a prompt for one of your own ideas or even a different organization task (e.g., digital file cleanup, closet overhaul)!"
   ]
  },
  {
   "cell_type": "code",
   "execution_count": 7,
   "metadata": {},
   "outputs": [
    {
     "name": "stdout",
     "output_type": "stream",
     "text": [
      "Sending custom prompt...\n",
      "Response received!\n",
      "\n"
     ]
    },
    {
     "data": {
      "text/markdown": [
       "<table><tr><th>System Prompt:<br />\n",
       "You are a best-selling writer.\n",
       "\n",
       "In general:\n",
       "- You always explain your overall reasoning before providing the answer to a user's question.\n",
       "- Always conclude with a list of action items when asked for advice.\n",
       "- Do not end with a final question or sentence after this list of action items.\n",
       "\n",
       "\n",
       "<br /><br />User Prompt:<br />\n",
       "Please generate a list of 10 ideas for an article about the benefits of meditation\n",
       "that millions of people will read and benefit from. The article is for a technical audience. \n",
       "</th></tr><tr><td>Response:<br />To generate a compelling list of article ideas about the benefits of meditation tailored for a technical audience, I need to consider what aspects would resonate with readers who are likely analytical, data-driven, or interested in scientific and technological perspectives. The aim is to create content that combines the proven benefits of meditation with insights that appeal to their logical and analytical mindset.\n",
       "\n",
       "Here's my reasoning process:\n",
       "1. Focus on scientifically backed benefits, including recent research findings.\n",
       "2. Highlight technological tools and innovations that facilitate meditation.\n",
       "3. Explore neurobiological mechanisms, appealing to a technical audience interested in brain science.\n",
       "4. Incorporate data visualization or metrics to demonstrate progress and benefits.\n",
       "5. Discuss how meditation can optimize productivity, focus, and mental resilience in tech environments.\n",
       "6. Address common misconceptions with evidence-based clarifications.\n",
       "7. Explore programming or biofeedback devices designed to enhance meditation practices.\n",
       "8. Consider the role of meditation in stress management for high-pressure industries.\n",
       "9. Analyze the impact of meditation on cognitive functions like memory, creativity, and problem-solving.\n",
       "10. Include case studies or experimental data from tech companies implementing meditation programs.\n",
       "\n",
       "Based on this reasoning, here are 10 article ideas:\n",
       "\n",
       "1. \"Neuroplasticity and Meditation: How Mindfulness Reshapes the Brain for Better Focus and Creativity\"\n",
       "2. \"The Science Behind Meditation: Data-Driven Insights into Stress Reduction and Cognitive Enhancement\"\n",
       "3. \"Leveraging Biofeedback Devices to Quantify and Improve Your Meditation Practice\"\n",
       "4. \"Meditation as a Tool for Enhancing Productivity in High-Performance Tech Teams\"\n",
       "5. \"From Neural Correlates to Practical Benefits: Exploring the Brain Mechanics of Meditation\"\n",
       "6. \"Implementing Meditation Programs in Tech Companies: Case Studies and Measurable Outcomes\"\n",
       "7. \"The Role of Meditation in Building Mental Resilience Against Burnout and Fatigue\"\n",
       "8. \"Data Visualization of Meditation's Impact: Tracking Your Progress with Wearable Tech\"\n",
       "9. \"Mythbusting Meditation: Scientific Evidence Clarifies Its Benefits for Cognitive and Emotional Health\"\n",
       "10. \"Integrating Meditation into Agile Workflows: Boosting Innovation and Problem-Solving Capacity\"\n",
       "\n",
       "**Action items:**\n",
       "- Develop detailed outlines for each article idea, emphasizing scientific evidence and technological tools.\n",
       "- Incorporate recent research studies, data visualizations, and case studies relevant to tech audiences.\n",
       "- Use clear, precise language that appeals to an analytical and technical readership.\n",
       "- Consider including interviews or quotes from neuroscientists, technologists, or industry leaders who utilize meditation.\n",
       "- Prepare supplementary materials like infographics or charts to enhance engagement and understanding.</td></tr></table>"
      ],
      "text/plain": [
       "<IPython.core.display.Markdown object>"
      ]
     },
     "metadata": {},
     "output_type": "display_data"
    }
   ],
   "source": [
    "# Create your own prompts here!\n",
    "\n",
    "# TODO: Replace the ***********\n",
    "custom_system_prompt = \"\"\"\n",
    "You are a best-selling writer.\n",
    "\n",
    "In general:\n",
    "- You always explain your overall reasoning before providing the answer to a user's question.\n",
    "- Always conclude with a list of action items when asked for advice.\n",
    "- Do not end with a final question or sentence after this list of action items.\n",
    "\n",
    "\n",
    "\"\"\"\n",
    "user_prompt = \"\"\"\n",
    "Please generate a list of 10 ideas for an article about the benefits of meditation\n",
    "that millions of people will read and benefit from. The article is for a technical audience. \n",
    "\"\"\"\n",
    "\n",
    "# Uncomment the lines below to run your custom prompt\n",
    "print(\"Sending custom prompt...\")\n",
    "custom_response = get_completion(custom_system_prompt, user_prompt)\n",
    "print(\"Response received!\\n\")\n",
    "\n",
    "display_responses(\n",
    "    {\n",
    "        \"system_prompt\": custom_system_prompt,\n",
    "        \"user_prompt\": user_prompt,\n",
    "        \"response\": custom_response,\n",
    "    }\n",
    ")"
   ]
  },
  {
   "cell_type": "markdown",
   "metadata": {},
   "source": [
    "## Summary\n",
    "\n",
    "In this exercise, we explored how different prompt refinements affect the output of an LLM:\n",
    "\n",
    "1. **Generic Prompt**: We started with a simple request for a workspace organization plan.\n",
    "2. **Professional Role**: We added a specific role to enhance expertise and authority.\n",
    "3. **Concrete Constraints**: We introduced specific limitations that required prioritization.\n",
    "4. **Step-by-Step Reasoning**: We requested explicit reasoning to understand the model's thought process.\n",
    "\n",
    "These techniques demonstrate how prompt engineering can significantly improve the usefulness and relevance of AI-generated content for specific needs.\n",
    "\n",
    "Excellent Work! 🚀"
   ]
  }
 ],
 "metadata": {
  "kernelspec": {
   "display_name": "venv",
   "language": "python",
   "name": "python3"
  },
  "language_info": {
   "codemirror_mode": {
    "name": "ipython",
    "version": 3
   },
   "file_extension": ".py",
   "mimetype": "text/x-python",
   "name": "python",
   "nbconvert_exporter": "python",
   "pygments_lexer": "ipython3",
   "version": "3.13.0"
  },
  "vscode": {
   "interpreter": {
    "hash": "23393d2575091a37cff0d0e9e7479591a295495b26c3b2ebf9b64da572e02d85"
   }
  }
 },
 "nbformat": 4,
 "nbformat_minor": 4
}
